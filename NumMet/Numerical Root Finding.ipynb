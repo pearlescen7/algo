{
 "cells": [
  {
   "cell_type": "markdown",
   "metadata": {},
   "source": [
    "# Root finding algorithms for non-lineer systems\n",
    "In this experiment we will calculate two specific roots for the functions $x^2 + 2x - 15$, $x^{3} + 7x^{2} - 170x$ using 4 different root finding algorithms. The aim of using the same 2 functions and guess, range etc. values, is to compare all methods easily. <br>\n",
    "## Bisection Method\n",
    "First one to consider is the bisection method. Bisection method has the advantage of requiring minimum knowledge about the function (f to be continuous on the given range). It is also really simple and guaranteed to converge. Although it is a robust method, we cannot really say that it is efficient. Also it is not an easy task to generalize it to higher dimensions (for example selecting the range could be a huge problem for a function with roots that are close to each other and is really steep between them). The method could be a solid choice when it comes to simple functions with lower dimensions so to say.<br> <br>\n",
    "Let's start writing the method.<br>\n",
    "First, let's define the functions that we will use throughout the whole experiment and import the needed modules."
   ]
  },
  {
   "cell_type": "code",
   "execution_count": 1,
   "metadata": {},
   "outputs": [],
   "source": [
    "%matplotlib inline\n",
    "\n",
    "import matplotlib.pyplot as plt\n",
    "import math\n",
    "import numpy as np\n",
    "\n",
    "f = np.poly1d([1, 2, -15])\n",
    "f2 = np.poly1d([0, -17, 10], True)"
   ]
  },
  {
   "cell_type": "markdown",
   "metadata": {},
   "source": [
    "Now we can move on to writing the bisection method."
   ]
  },
  {
   "cell_type": "code",
   "execution_count": 2,
   "metadata": {},
   "outputs": [],
   "source": [
    "def Bisect(func, a, b, atol):\n",
    "    #Calculate f(a) and f(b) to check the conditions\n",
    "    fa = func(a)\n",
    "    fb = func(b)\n",
    "    \n",
    "    #Check if the assumptions are correct and the conditions are satisfied\n",
    "    if (a > b) or (atol <= 0) or (fa*fb > 0):\n",
    "        print(\"Invalid input.\")\n",
    "        return None\n",
    "    \n",
    "    #Calculate the number of max iterations and define varibles to keep the values for the graph\n",
    "    atol_list = []   \n",
    "    n = math.ceil(math.log2(b - a) - math.log2(2 * atol))\n",
    "    \n",
    "    #Main for loop until it reaches n iterations\n",
    "    for iter_count in range(n):\n",
    "        \n",
    "        #Raise iteration count by one and add the mid point as a guess\n",
    "        mid_point = (a + b) / 2\n",
    "        atol_list.append(mid_point)\n",
    "        \n",
    "        fmid = func(mid_point)\n",
    "        \n",
    "        #If the mid point is the solution return \n",
    "        if(fmid == 0.0):\n",
    "            return [mid_point, iter_count + 1, atol_list]\n",
    "        \n",
    "        #If not check in which region the root is and set the boundaries\n",
    "        if (fa * fmid) < 0:\n",
    "            b = mid_point\n",
    "            fb = fmid\n",
    "        else:\n",
    "            a = mid_point\n",
    "            fa = fmid\n",
    "            \n",
    "    return [(a + b) / 2, iter_count + 1, atol_list]"
   ]
  },
  {
   "cell_type": "markdown",
   "metadata": {},
   "source": [
    "Now, using the Bisect function, we can start calculating the roots. <br>\n",
    "The test values are as below."
   ]
  },
  {
   "cell_type": "code",
   "execution_count": 3,
   "metadata": {},
   "outputs": [],
   "source": [
    "#Putting test variables together to make changes easily\n",
    "range_a = 0\n",
    "range_b = 10\n",
    "real_solution = 3\n",
    "real_solution2 = 10\n",
    "atol = 1e-8\n",
    "#Will be used in the next parts\n",
    "guess = 7\n",
    "guess2 = 7\n",
    "guess_0 = 5\n",
    "guess_02 = 5\n",
    "max_iter = 100"
   ]
  },
  {
   "cell_type": "markdown",
   "metadata": {},
   "source": [
    "Before finding the solution we desire, let's test our function with an invalid range to see if it works correctly."
   ]
  },
  {
   "cell_type": "code",
   "execution_count": 4,
   "metadata": {},
   "outputs": [
    {
     "name": "stdout",
     "output_type": "stream",
     "text": [
      "Invalid input.\n"
     ]
    }
   ],
   "source": [
    "#a > b; should not work\n",
    "Bisect(f, 100, 1, atol)"
   ]
  },
  {
   "cell_type": "code",
   "execution_count": 5,
   "metadata": {},
   "outputs": [
    {
     "name": "stdout",
     "output_type": "stream",
     "text": [
      "Invalid input.\n"
     ]
    }
   ],
   "source": [
    "#The function has no roots between 20 and 30 according to the Intermediate Value Theorem; should not work\n",
    "Bisect(f, 20, 30, atol)"
   ]
  },
  {
   "cell_type": "code",
   "execution_count": 6,
   "metadata": {},
   "outputs": [
    {
     "name": "stdout",
     "output_type": "stream",
     "text": [
      "Invalid input.\n"
     ]
    }
   ],
   "source": [
    "#atol < 0; again, should not work\n",
    "Bisect(f, range_a, range_b, -1e-8)"
   ]
  },
  {
   "cell_type": "markdown",
   "metadata": {},
   "source": [
    "Now we are sure that the function does eliminate the invalid inputs, we can start experimenting. <br>\n",
    "Using the test values we achieve the following graph."
   ]
  },
  {
   "cell_type": "code",
   "execution_count": 7,
   "metadata": {
    "scrolled": false
   },
   "outputs": [
    {
     "data": {
      "image/png": "[encoded data removed]",
      "text/plain": [
       "<Figure size 1080x576 with 1 Axes>"
      ]
     },
     "metadata": {
      "needs_background": "light"
     },
     "output_type": "display_data"
    }
   ],
   "source": [
    "results = Bisect(f, range_a, range_b, atol)\n",
    "results2 = Bisect(f2, range_a, range_b, atol)\n",
    "\n",
    "plt.figure(figsize=(15,8))\n",
    "ax1 = plt.plot([i + 1 for i in range(0,results[1])], [abs(results[2][i] - real_solution) for i in range(0, len(results[2]))], linestyle='-', marker = 'o')\n",
    "ax2 = plt.plot([i + 1 for i in range(0,results2[1])], [abs(results2[2][i] - real_solution2) for i in range(0, len(results2[2]))], linestyle='-', marker = '.')\n",
    "plt.suptitle(\"Bisection Method\")\n",
    "plt.title(\"Blue = $F(x) = x^{2} + 2x - 15$; Orange = $x^{3} + 7x^{2} - 170x$\\nRange = (0,10)\")\n",
    "plt.xlabel(\"Number of Iterations\")\n",
    "plt.ylabel(\"Absolute Error\")\n",
    "plt.xticks(range(1,results[1]+1))\n",
    "plt.show()"
   ]
  },
  {
   "cell_type": "markdown",
   "metadata": {},
   "source": [
    "And we approximate the roots as the following: "
   ]
  },
  {
   "cell_type": "code",
   "execution_count": 8,
   "metadata": {},
   "outputs": [
    {
     "name": "stdout",
     "output_type": "stream",
     "text": [
      "Root in the range(0, 10): 2.99999999813735485077\n",
      "Root in the range(0, 10): 9.99999999068677425385\n"
     ]
    }
   ],
   "source": [
    "print(\"Root in the range({0}, {1}): {2:.20f}\".format(range_a, range_b, results[0]))\n",
    "print(\"Root in the range({0}, {1}): {2:.20f}\".format(range_a, range_b, results2[0]))"
   ]
  },
  {
   "cell_type": "markdown",
   "metadata": {},
   "source": [
    "The results are correct and we achieve the given precision in the iteration count that we calculated before."
   ]
  },
  {
   "cell_type": "markdown",
   "metadata": {},
   "source": [
    "## Fixed Point Iteration Method\n",
    "This method requires preliminary study as opposed to bisection method. We need to find a function $g(x)$ that will converge and this might not be a matter that is straightforward. The advantage of this method is though, $g(x)$ determines the convergence rate while in bisection it is a fixed value which is 0.5. That means we can find a $g(x)$ such that the method will converge really fast and will achieve the solution before bisection. Even though it is not a robust way to find the root, it can be really efficient under right circumstances. <br>\n",
    "To implement this method, first we need a $g(x)$ such that $f(x) = 0$ and $g(x) = x$.<br>\n",
    "For the function $f(x) = x^2 + 2x -15$, we can select $g(x)$ as $g(x) = \\frac{15}{x+2}$ since; <br> <br>\n",
    "$x^2 + 2x = 15$<br>\n",
    "$x(x + 2) = 15$ <br>\n",
    "$x_{n+1} = \\frac{15}{x_n + 2}$ <br> <br>\n",
    "We can apply convergence test to see if it will converge at the root mathematically. <br><br>\n",
    "$g'(x) = -\\frac{15}{(x + 2)^ {2}}$ <br>\n",
    "$g'(3) = -\\frac{15}{(3 + 2)^ {2}} = -\\frac{15}{25}$ <br>\n",
    "$|-\\frac{15}{25}| < 1$ <br><br>\n",
    "Hence, it should converge. <br>\n",
    "For the function $f(x) = x^{3} + 7x^{2} - 170x$, we can choose $g(x)$ as $g(x) = \\frac{170}{x+7}$ since; <br><br>\n",
    "$x^{3} + 7x^{2} = 170x$<br>\n",
    "$x(x^{2} + 7x) = 170x$ <br>\n",
    "$x = \\frac{170x}{(x^{2} + 7x)}$<br>\n",
    "$x= \\frac{170}{x+7}$ <br><br>\n",
    "Let's apply the convergence test again. <br><br>\n",
    "$g'(x) = -\\frac{170}{(x + 7)^ {2}}$ <br>\n",
    "$g'(10) = -\\frac{170}{(10 + 7)^ {2}}$ <br>\n",
    "$|-\\frac{170}{289}| < 1 $ <br><br>\n",
    "Hence, this should converge too. <br>\n",
    "The values $|-\\frac{15}{25}|$ and $|-\\frac{170}{289}|$ are also the rate of convergence for the selected $g(x)$.<br> <br>\n",
    "$|-\\frac{15}{25}| = 0.6$ ; $|-\\frac{170}{289}| = 0.58823529$ <br><br>\n",
    "The calculations show that it should take more iterations to find the solution with this method compared to bisection since the convergence rates are bigger than $0.5$.<br>\n",
    "Now, let's define the functions and test if the experiment will match the calculations."
   ]
  },
  {
   "cell_type": "code",
   "execution_count": 9,
   "metadata": {},
   "outputs": [],
   "source": [
    "def g(x):\n",
    "    return 15 / (x + 2)\n",
    "def g2(x):\n",
    "    return 170 / (x + 7)"
   ]
  },
  {
   "cell_type": "code",
   "execution_count": 10,
   "metadata": {},
   "outputs": [],
   "source": [
    "def FixedPointIteration(g, guess, max_iter, atol):\n",
    "    guess_list = []\n",
    "    \n",
    "    for iter_count in range(0, max_iter):\n",
    "        step_error = abs(guess - g(guess))\n",
    "        guess_list.append(guess)\n",
    "        \n",
    "        if(step_error < atol):\n",
    "            return [guess, iter_count + 1, guess_list]\n",
    "        \n",
    "        guess = g(guess)\n",
    "        \n",
    "    if(step_error >= atol):\n",
    "        print(\"Could not find the root in {0} attempts.\".format(max_iter))\n",
    "        return None"
   ]
  },
  {
   "cell_type": "markdown",
   "metadata": {},
   "source": [
    "$guess = 7, guess2 = 7, max\\_iter = 100$ and $atol = 10^{-8}$ as the test values again to easily compare it with other methods."
   ]
  },
  {
   "cell_type": "code",
   "execution_count": 11,
   "metadata": {
    "scrolled": false
   },
   "outputs": [
    {
     "data": {
      "image/png": "[encoded data removed]",
      "text/plain": [
       "<Figure size 1080x720 with 1 Axes>"
      ]
     },
     "metadata": {
      "needs_background": "light"
     },
     "output_type": "display_data"
    }
   ],
   "source": [
    "results = FixedPointIteration(g, guess, max_iter, atol)\n",
    "results2 = FixedPointIteration(g2, guess2, max_iter, atol)\n",
    "\n",
    "plt.figure(figsize=(15,10))\n",
    "ax1 = plt.plot([i + 1 for i in range(0,results[1])], [abs(results[2][i] - real_solution) for i in range(0, len(results[2]))], linestyle='-', marker = 'o')\n",
    "ax2 = plt.plot([i + 1 for i in range(0,results2[1])], [abs(results2[2][i] - real_solution2) for i in range(0, len(results2[2]))], linestyle='-', marker = '.')\n",
    "plt.suptitle(\"Fixed Point Iteration Method\")\n",
    "plt.title(\"Blue = $F(x) = x^{2} + 2x - 15$; Orange = $x^{3} + 7x^{2} - 170x$\\nBlue Guess = 7; Orange Guess= 7\")\n",
    "plt.xlabel(\"Number of Iterations\")\n",
    "plt.ylabel(\"Absolute Error\")\n",
    "plt.xticks(range(1,max(results[1]+1, results2[1]+1)))\n",
    "plt.show()"
   ]
  },
  {
   "cell_type": "code",
   "execution_count": 12,
   "metadata": {
    "scrolled": true
   },
   "outputs": [
    {
     "name": "stdout",
     "output_type": "stream",
     "text": [
      "Value of the root approximation for the initial guess (7): 2.99999999405889106185\n",
      "Value of the root approximation for the initial guess (7): 9.99999999409507012160\n"
     ]
    }
   ],
   "source": [
    "print(\"Value of the root approximation for the initial guess ({0}): {1:.20f}\".format(guess, results[0]))\n",
    "print(\"Value of the root approximation for the initial guess ({0}): {1:.20f}\".format(guess, results2[0]))"
   ]
  },
  {
   "cell_type": "markdown",
   "metadata": {},
   "source": [
    "The calculations match with the experiment results as expected.<br>\n",
    "While it took 29 iterations for bisection method to find the desired roots for both functions, it took 39 and 40 iterations for fixed point method."
   ]
  },
  {
   "cell_type": "markdown",
   "metadata": {},
   "source": [
    "## Newton's Method\n",
    "Different from the previous two methods, Newton's method also requires the function to be smoother and to have a continuous derivative which is a down-side. Another down-side is, the method fails whenever it achieves a derivative value 0, since this means that the tangent line to the function is a straight horizontal line which either won't intersect with the function again or diverge. Nevertheless, since Newton's method converge quadratically (unless we have multiple roots), it can be a consolidated choice when we can offer more information and need more speed.<br>\n",
    "To use this method, we need the function and its derivative to be continuous in the region which we are searching the root as stated above.<br>\n",
    "Using NumPy's poly1d and its derivative method, we can easily achieve what we need for the functions $F(x) = x^2 + 2x - 15$ and $f(x) = x^{3} + 7x^{2} - 170x$."
   ]
  },
  {
   "cell_type": "code",
   "execution_count": 13,
   "metadata": {},
   "outputs": [
    {
     "name": "stdout",
     "output_type": "stream",
     "text": [
      " \n",
      "2 x + 2\n",
      "   2\n",
      "3 x + 14 x - 170\n"
     ]
    }
   ],
   "source": [
    "#f was defined as f = np.poly1d([1, 2, -15]) in the cells before\n",
    "f_deriv = f.deriv()\n",
    "print(f_deriv)\n",
    "\n",
    "#f2 was defined as f2 = np.poly1d([0, -17, 10], True) in the cells before\n",
    "f2_deriv = f2.deriv()\n",
    "print(f2_deriv)"
   ]
  },
  {
   "cell_type": "markdown",
   "metadata": {},
   "source": [
    "Since we achieved continuous derivatives for every $x \\in \\mathbf{R}$, we can move onto coding the method."
   ]
  },
  {
   "cell_type": "code",
   "execution_count": 14,
   "metadata": {},
   "outputs": [],
   "source": [
    "def NewtonsMethod(f, guess, max_iter, atol):\n",
    "    f_deriv = f.deriv()\n",
    "    guess_list = []\n",
    "    \n",
    "    for iter_count in range(max_iter):\n",
    "        \n",
    "        if(f_deriv(guess) == 0):\n",
    "            print(\"Derivative is zero. The solution cannot be found.\")\n",
    "            return None\n",
    "        \n",
    "        step_error = abs(f(guess)/f_deriv(guess))\n",
    "        guess_list.append(guess)\n",
    "        \n",
    "        if(step_error < atol):\n",
    "            return [guess, iter_count + 1, guess_list]\n",
    "        guess -= f(guess)/f_deriv(guess)\n",
    "    \n",
    "    if(step_error >= atol):\n",
    "        print(\"Could not find the root in {0} attempts.\".format(max_iter))\n",
    "        return None"
   ]
  },
  {
   "cell_type": "markdown",
   "metadata": {},
   "source": [
    "To show that the method fails when it gets the value 0 as the derivative, let's create another function and give it a try."
   ]
  },
  {
   "cell_type": "code",
   "execution_count": 15,
   "metadata": {},
   "outputs": [
    {
     "data": {
      "image/png": "[encoded data removed]",
      "text/plain": [
       "<Figure size 432x288 with 1 Axes>"
      ]
     },
     "metadata": {
      "needs_background": "light"
     },
     "output_type": "display_data"
    }
   ],
   "source": [
    "#f3(x) = x^2 - 2x\n",
    "f3 = np.poly1d([0, 2], True)\n",
    "f3_deriv = f3.deriv()\n",
    "\n",
    "x = np.linspace(-2,4,num=100)\n",
    "y = f3(x)\n",
    "\n",
    "x1 = 1\n",
    "y1 = f3(x1)\n",
    "\n",
    "def line(x, x1, y1):\n",
    "    return f3_deriv(x1)*(x - x1) + y1\n",
    "\n",
    "plt.grid()\n",
    "plt.axvline()\n",
    "plt.axhline()\n",
    "ax1 = plt.plot(x, y)\n",
    "ax1 = plt.plot(np.linspace(-2, 4, 10), line(np.linspace(x1-1, x1+1, 10), x1, y1))\n",
    "plt.show()"
   ]
  },
  {
   "cell_type": "markdown",
   "metadata": {},
   "source": [
    "From the plot above it can be seen that the function we just created has a derivative of 0 at the point $x = 1$. <br>\n",
    "Now let's test our method with $guess = 1$ to see that it fails."
   ]
  },
  {
   "cell_type": "code",
   "execution_count": 16,
   "metadata": {},
   "outputs": [
    {
     "name": "stdout",
     "output_type": "stream",
     "text": [
      "Derivative is zero. The solution cannot be found.\n"
     ]
    }
   ],
   "source": [
    "NewtonsMethod(f3, 1, max_iter, atol)"
   ]
  },
  {
   "cell_type": "markdown",
   "metadata": {},
   "source": [
    "As seen from the result above the method cannot find the roots when the initial guess does not satisfy our requirements. <br>\n",
    "Only if we tried another guess... <br>"
   ]
  },
  {
   "cell_type": "code",
   "execution_count": 17,
   "metadata": {},
   "outputs": [
    {
     "name": "stdout",
     "output_type": "stream",
     "text": [
      "-0.00000000001074457931\n"
     ]
    }
   ],
   "source": [
    "print(f'{NewtonsMethod(f3, -4, max_iter, atol)[0]:.20f}')"
   ]
  },
  {
   "cell_type": "markdown",
   "metadata": {},
   "source": [
    "The result is correct! <br>\n",
    "The method even found the result more precise than we want, thanks to Newton's method's rate of convergence being quadratic."
   ]
  },
  {
   "cell_type": "markdown",
   "metadata": {},
   "source": [
    "Now we are ready to test Newton's method with the functions defined in the beginning as well. <br>\n",
    "$guess = 7, guess2 = 7, max\\_iter = 100$ and $atol = 10^{-8}$. <br>"
   ]
  },
  {
   "cell_type": "code",
   "execution_count": 18,
   "metadata": {},
   "outputs": [
    {
     "data": {
      "image/png": "[encoded data removed]",
      "text/plain": [
       "<Figure size 1080x720 with 1 Axes>"
      ]
     },
     "metadata": {
      "needs_background": "light"
     },
     "output_type": "display_data"
    }
   ],
   "source": [
    "results = NewtonsMethod(f, guess, max_iter, atol)\n",
    "results2 = NewtonsMethod(f2, guess2, max_iter, atol)\n",
    "\n",
    "plt.figure(figsize=(15,10))\n",
    "ax1 = plt.plot([i + 1 for i in range(0,results[1])], [abs(results[2][i] - real_solution) for i in range(0, len(results[2]))], linestyle='-', marker = 'o')\n",
    "ax2 = plt.plot([i + 1 for i in range(0,results2[1])], [abs(results2[2][i] - real_solution2) for i in range(0, len(results2[2]))], linestyle='-', marker = '.')\n",
    "plt.suptitle(\"Newton's Method\")\n",
    "plt.title(\"Blue = $F(x) = x^{2} + 2x - 15$; Orange = $x^{3} + 7x^{2} - 170x$\\nBlue Guess = 7; Orange Guess= 7\")\n",
    "plt.xlabel(\"Number of Iterations\")\n",
    "plt.ylabel(\"Absolute Error\")\n",
    "plt.xticks(range(1,max(results[1]+1, results2[1]+1)))\n",
    "plt.show()"
   ]
  },
  {
   "cell_type": "code",
   "execution_count": 19,
   "metadata": {
    "scrolled": false
   },
   "outputs": [
    {
     "name": "stdout",
     "output_type": "stream",
     "text": [
      "Value of the root approximation for the initial guess (7): 3.00000000000000399680\n",
      "Value of the root approximation for the initial guess (7): 10.00000000000004085621\n"
     ]
    }
   ],
   "source": [
    "print(\"Value of the root approximation for the initial guess ({0}): {1:.20f}\".format(guess, results[0]))\n",
    "print(\"Value of the root approximation for the initial guess ({0}): {1:.20f}\".format(guess2, results2[0]))"
   ]
  },
  {
   "cell_type": "markdown",
   "metadata": {},
   "source": [
    "We achieve the correct results once more."
   ]
  },
  {
   "cell_type": "markdown",
   "metadata": {},
   "source": [
    "## Secant Method\n",
    "Secant method is a variant of Newton's method which we approximate the function's derivative using a finite difference approximation. This means that we can dodge calculating the derivative which can be a burden at times where the derivative is hard to evaluate (it may not even exist) and still achieve the result but the method is slower when compared to Newton's method since it converges superlinearly. It can also fail completely too. "
   ]
  },
  {
   "cell_type": "code",
   "execution_count": 20,
   "metadata": {},
   "outputs": [],
   "source": [
    "def SecantMethod(f, guess_0, guess, max_iter, atol):\n",
    "    guess_list = []\n",
    "    \n",
    "    if(guess_0 == guess):\n",
    "        print(\"Invalid guess.\")\n",
    "        return None\n",
    "    \n",
    "    for iter_count in range(max_iter):\n",
    "        step_error = abs(f(guess)*(guess - guess_0)/(f(guess) - f(guess_0)))\n",
    "        guess_list.append(guess)\n",
    "        \n",
    "        if(step_error < atol):\n",
    "            return [guess, iter_count + 1, guess_list]\n",
    "        \n",
    "        temp = guess\n",
    "        guess -= f(guess)*(guess - guess_0)/(f(guess) - f(guess_0))\n",
    "        guess_0 = temp\n",
    "        \n",
    "    if(step_error >= atol):\n",
    "        print(\"Could not find the root in {0} attempts.\".format(max_iter))\n",
    "        return None"
   ]
  },
  {
   "cell_type": "markdown",
   "metadata": {},
   "source": [
    "Now to test Secant method; <br>\n",
    "$guess_0 = 5, guess = 7, guess_02 = 5, guess2 = 7, max\\_iter = 100$ and $atol = 10^{-8}$. <br>"
   ]
  },
  {
   "cell_type": "code",
   "execution_count": 21,
   "metadata": {},
   "outputs": [
    {
     "data": {
      "image/png": "[encoded data removed]",
      "text/plain": [
       "<Figure size 1080x720 with 1 Axes>"
      ]
     },
     "metadata": {
      "needs_background": "light"
     },
     "output_type": "display_data"
    }
   ],
   "source": [
    "results = SecantMethod(f, guess_0, guess, max_iter, atol)\n",
    "results2 = SecantMethod(f2, guess_02, guess2, max_iter, atol)\n",
    "\n",
    "plt.figure(figsize=(15,10))\n",
    "ax1 = plt.plot([i + 1 for i in range(0,results[1])], [abs(results[2][i] - real_solution) for i in range(0, len(results[2]))], linestyle='-', marker = 'o')\n",
    "ax2 = plt.plot([i + 1 for i in range(0,results2[1])], [abs(results2[2][i] - real_solution2) for i in range(0, len(results2[2]))], linestyle='-', marker = '.')\n",
    "plt.suptitle(\"Secant Method\")\n",
    "plt.title(\"Blue = $F(x) = x^{2} + 2x - 15$; Orange = $x^{3} + 7x^{2} - 170x$\\nBlue Guesses = 5, 7; Orange Guesses= 5, 7\")\n",
    "plt.xlabel(\"Number of Iterations\")\n",
    "plt.ylabel(\"Absolute Error\")\n",
    "plt.xticks(range(1,max(results[1]+1, results2[1]+1)))\n",
    "plt.show()"
   ]
  },
  {
   "cell_type": "code",
   "execution_count": 22,
   "metadata": {},
   "outputs": [
    {
     "name": "stdout",
     "output_type": "stream",
     "text": [
      "Value of the root approximation for the initial guesses (5, 7): 3.00000000001284572448\n",
      "Value of the root approximation for the initial guesses (5, 7): 10.00000000000149213975\n"
     ]
    }
   ],
   "source": [
    "print(\"Value of the root approximation for the initial guesses ({0}, {1}): {2:.20f}\".format(guess_0, guess, results[0]))\n",
    "print(\"Value of the root approximation for the initial guesses ({0}, {1}): {2:.20f}\".format(guess_02, guess2, results2[0]))"
   ]
  },
  {
   "cell_type": "markdown",
   "metadata": {},
   "source": [
    "We get the correct results again and as expect it took more iterations to find compared to Newton's method."
   ]
  },
  {
   "cell_type": "markdown",
   "metadata": {},
   "source": [
    "# PA = LU Factorization\n",
    "a) Since A is a 4x4 matrix, we will need 3 steps to complete the process. <br>\n",
    "Step 1: Clearing column 1, no row interchanges needed since the biggest value is already on the top; <br>\n",
    "    $A_1 = M_1P_1A$ <br><br>\n",
    "    $\\begin{pmatrix}\n",
    "    2 & -1 & 0 & 0\\\\\n",
    "    0 & 0 & -1 & 1 \\\\\n",
    "    0 & -1 & 2 & -1 \\\\\n",
    "    0 & \\frac{3}{2} & -1 & 0\n",
    "    \\end{pmatrix} = \n",
    "    \\begin{pmatrix}\n",
    "    1 & 0 & 0 & 0\\\\\n",
    "    0 & 1 & 0 & 0 \\\\\n",
    "    0 & 0 & 1 & 0 \\\\\n",
    "    \\frac{1}{2} & 0 & 0 & 1\n",
    "    \\end{pmatrix}\n",
    "    \\begin{pmatrix}\n",
    "    1 & 0 & 0 & 0\\\\\n",
    "    0 & 1 & 0 & 0 \\\\\n",
    "    0 & 0 & 1 & 0 \\\\\n",
    "    0 & 0 & 0 & 1\n",
    "    \\end{pmatrix}\n",
    "    \\begin{pmatrix}\n",
    "    2 & -1 & 0 & 0\\\\\n",
    "    0 & 0 & -1 & 1 \\\\\n",
    "    0 & -1 & 2 & -1 \\\\\n",
    "    -1 & 2 & -1 & 0\n",
    "    \\end{pmatrix}\n",
    "    $ <br><br>\n",
    "Step 2: Clearing column 2, we need to interchange row 2 and 4 to avoid failing; <br>\n",
    "    $A_2 = M_2P_2A_1$ <br><br>\n",
    "    $\\begin{pmatrix}\n",
    "    2 & -1 & 0 & 0\\\\\n",
    "    0 & \\frac{3}{2} & -1 & 0 \\\\\n",
    "    0 & 0 & \\frac{4}{3} & -1 \\\\\n",
    "    0 & 0 & -1 & -1\n",
    "    \\end{pmatrix} = \n",
    "    \\begin{pmatrix}\n",
    "    1 & 0 & 0 & 0\\\\\n",
    "    0 & 1 & 0 & 0 \\\\\n",
    "    0 & \\frac{2}{3} & 1 & 0 \\\\\n",
    "    0 & 0 & 0 & 1\n",
    "    \\end{pmatrix}\n",
    "    \\begin{pmatrix}\n",
    "    1 & 0 & 0 & 0\\\\\n",
    "    0 & 0 & 0 & 1 \\\\\n",
    "    0 & 0 & 1 & 0 \\\\\n",
    "    0 & 1 & 0 & 0\n",
    "    \\end{pmatrix}\n",
    "    \\begin{pmatrix}\n",
    "    2 & -1 & 0 & 0\\\\\n",
    "    0 & 0 & -1 & 1 \\\\\n",
    "    0 & -1 & 2 & -1 \\\\\n",
    "    0 & \\frac{3}{2} & -1 & 0\n",
    "    \\end{pmatrix}\n",
    "    $ <br><br>\n",
    "Step 3: Clearing column 3, no need to interchange again. <br>\n",
    "    $U = A_3 = M_3P_3A_2$ <br><br>\n",
    "    $\\begin{pmatrix}\n",
    "    2 & -1 & 0 & 0\\\\\n",
    "    0 & \\frac{3}{2} & -1 & 0 \\\\\n",
    "    0 & 0 & \\frac{4}{3} & -1 \\\\\n",
    "    0 & 0 & 0 & \\frac{1}{4}\n",
    "    \\end{pmatrix} = \n",
    "    \\begin{pmatrix}\n",
    "    1 & 0 & 0 & 0\\\\\n",
    "    0 & 1 & 0 & 0 \\\\\n",
    "    0 & 0 & 1 & 0 \\\\\n",
    "    0 & 0 & \\frac{3}{4} & 1\n",
    "    \\end{pmatrix}\n",
    "    \\begin{pmatrix}\n",
    "    1 & 0 & 0 & 0\\\\\n",
    "    0 & 1 & 0 & 0 \\\\\n",
    "    0 & 0 & 1 & 0 \\\\\n",
    "    0 & 0 & 0 & 1\n",
    "    \\end{pmatrix}\n",
    "    \\begin{pmatrix}\n",
    "    2 & -1 & 0 & 0\\\\\n",
    "    0 & \\frac{3}{2} & -1 & 0 \\\\\n",
    "    0 & 0 & \\frac{4}{3} & -1 \\\\\n",
    "    0 & 0 & -1 & -1\n",
    "    \\end{pmatrix}\n",
    "    $ <br><br>\n",
    "Now we can start finding P and L.<br>\n",
    "Since $P_1$ and $P_3$ are identity matrices we can ignore them in our calculations. <br>\n",
    "From $P = P_3P_2P_1$, we get; <br><br>\n",
    "    $P = \\begin{pmatrix}\n",
    "    1 & 0 & 0 & 0\\\\\n",
    "    0 & 0 & 0 & 1 \\\\\n",
    "    0 & 0 & 1 & 0 \\\\\n",
    "    0 & 1 & 0 & 0\n",
    "    \\end{pmatrix}$"
   ]
  },
  {
   "cell_type": "markdown",
   "metadata": {},
   "source": [
    "To find $L$, we need the inverse of matrix $\\tilde{M}$ which is the following for this particular case; <br>\n",
    "$\\tilde{M} = \\tilde{M_3}\\tilde{M_2}\\tilde{M_1}$ <br><br>\n",
    "So to find $\\tilde{M}$, first we have to calculate $\\tilde{M_1}$, $\\tilde{M_2}$ and $\\tilde{M_3}$. <br><br>\n",
    "For $\\tilde{M_3}$ :<br>\n",
    "$\\tilde{M_3} = M_3 = \n",
    "    \\begin{pmatrix}\n",
    "    1 & 0 & 0 & 0\\\\\n",
    "    0 & 1 & 0 & 0 \\\\\n",
    "    0 & 0 & 1 & 0 \\\\\n",
    "    0 & 0 & \\frac{3}{4} & 1\n",
    "    \\end{pmatrix}$ <br><br>\n",
    "For $\\tilde{M_2}$ : <br>\n",
    "$\\tilde{M_2} = P_3M_2(P_3)^{T}$ <br> $P_3 = (P_3)^{T} = I$ <br> $\\tilde{M_2} = M_2 =\n",
    "    \\begin{pmatrix}\n",
    "    1 & 0 & 0 & 0\\\\\n",
    "    0 & 1 & 0 & 0 \\\\\n",
    "    0 & \\frac{2}{3} & 1 & 0 \\\\\n",
    "    0 & 0 & 0 & 1\n",
    "    \\end{pmatrix}$ <br><br>\n",
    "For $\\tilde{M_1}$ : <br>e\n",
    "$\\tilde{M_1} = P_3P_2M_1(P_2)^{T}(P_3)^{T}$ <br> $P_3 = (P_3)^{T} = I$ <br> $P_2 = (P_2)^{T}$ since $P_2$ is symmetric <br> $\\tilde{M_1} = P_2M_1(P_2)^{T}$ <br>\n",
    "\n",
    "$ \\tilde{M_1} = \n",
    "    \\begin{pmatrix}\n",
    "    1 & 0 & 0 & 0\\\\\n",
    "    0 & 0 & 0 & 1 \\\\\n",
    "    0 & 0 & 1 & 0 \\\\\n",
    "    0 & 1 & 0 & 0\n",
    "    \\end{pmatrix}\n",
    "    \\begin{pmatrix}\n",
    "    1 & 0 & 0 & 0\\\\\n",
    "    0 & 1 & 0 & 0 \\\\\n",
    "    0 & 0 & 1 & 0 \\\\\n",
    "    \\frac{1}{2} & 0 & 0 & 1\n",
    "    \\end{pmatrix}\n",
    "    \\begin{pmatrix}\n",
    "    1 & 0 & 0 & 0\\\\\n",
    "    0 & 0 & 0 & 1 \\\\\n",
    "    0 & 0 & 1 & 0 \\\\\n",
    "    0 & 1 & 0 & 0\n",
    "    \\end{pmatrix} = \n",
    "    \\begin{pmatrix}\n",
    "    1 & 0 & 0 & 0\\\\\n",
    "    \\frac{1}{2} & 1 & 0 & 0 \\\\\n",
    "    0 & 0 & 1 & 0 \\\\\n",
    "    0 & 0 & 0 & 1\n",
    "    \\end{pmatrix}$ <br><br>\n",
    "    $\\tilde{M} = \\tilde{M_3}\\tilde{M_2}\\tilde{M_1} = \n",
    "    \\begin{pmatrix}\n",
    "    1 & 0 & 0 & 0\\\\\n",
    "    0 & 1 & 0 & 0 \\\\\n",
    "    0 & 0 & 1 & 0 \\\\\n",
    "    0 & 0 & \\frac{3}{4} & 1\n",
    "    \\end{pmatrix}\n",
    "    \\begin{pmatrix}\n",
    "    1 & 0 & 0 & 0\\\\\n",
    "    0 & 1 & 0 & 0 \\\\\n",
    "    0 & \\frac{2}{3} & 1 & 0 \\\\\n",
    "    0 & 0 & 0 & 1\n",
    "    \\end{pmatrix}\n",
    "    \\begin{pmatrix}\n",
    "    1 & 0 & 0 & 0\\\\\n",
    "    \\frac{1}{2} & 1 & 0 & 0 \\\\\n",
    "    0 & 0 & 1 & 0 \\\\\n",
    "    0 & 0 & 0 & 1\n",
    "    \\end{pmatrix} = \n",
    "    \\begin{pmatrix}\n",
    "    1 & 0 & 0 & 0\\\\\n",
    "    \\frac{1}{2} & 1 & 0 & 0 \\\\\n",
    "    \\frac{1}{3} & \\frac{2}{3} & 1 & 0 \\\\\n",
    "    \\frac{1}{4} & \\frac{1}{2} & \\frac{3}{4} & 1\n",
    "    \\end{pmatrix}\n",
    "    $ <br><br>\n",
    "    And finally, <br><br>\n",
    "    $L = (\\tilde{M})^{-1} = \n",
    "    \\begin{pmatrix}\n",
    "    1 & 0 & 0 & 0\\\\\n",
    "    -\\frac{1}{2} & 1 & 0 & 0 \\\\\n",
    "    0 & -\\frac{2}{3} & 1 & 0 \\\\\n",
    "    0 & 0 & -\\frac{3}{4} & 1\n",
    "    \\end{pmatrix}\n",
    "    $"
   ]
  },
  {
   "cell_type": "markdown",
   "metadata": {},
   "source": [
    "$PA = LU$ <br><br>\n",
    "    $\\begin{pmatrix}\n",
    "    1 & 0 & 0 & 0\\\\\n",
    "    0 & 0 & 0 & 1 \\\\\n",
    "    0 & 0 & 1 & 0 \\\\\n",
    "    0 & 1 & 0 & 0\n",
    "    \\end{pmatrix} \\begin{pmatrix}\n",
    "    2 & -1 & 0 & 0\\\\\n",
    "    0 & 0 & -1 & 1 \\\\\n",
    "    0 & -1 & 2 & -1 \\\\\n",
    "    -1 & 2 & -1 & 0\n",
    "    \\end{pmatrix} = \n",
    "    \\begin{pmatrix}\n",
    "    1 & 0 & 0 & 0\\\\\n",
    "    -\\frac{1}{2} & 1 & 0 & 0 \\\\\n",
    "    0 & -\\frac{2}{3} & 1 & 0 \\\\\n",
    "    0 & 0 & -\\frac{3}{4} & 1\n",
    "    \\end{pmatrix}\n",
    "    \\begin{pmatrix}\n",
    "    2 & -1 & 0 & 0\\\\\n",
    "    0 & \\frac{3}{2} & -1 & 0 \\\\\n",
    "    0 & 0 & \\frac{4}{3} & -1 \\\\\n",
    "    0 & 0 & 0 & \\frac{1}{4}\n",
    "    \\end{pmatrix}\n",
    "    $"
   ]
  },
  {
   "cell_type": "markdown",
   "metadata": {},
   "source": [
    "b) For this part we can use the L and U we found in part a.<br>\n",
    "To find $x$, we can simply do the following and find the solution using backward and forward substitution algorithms; <br>\n",
    "$Ly = Pb$ <br>\n",
    "$Ux = y$ <br>\n",
    "$Pb =\n",
    "    \\begin{pmatrix}\n",
    "    1 & 0 & 0 & 0\\\\\n",
    "    0 & 0 & 0 & 1 \\\\\n",
    "    0 & 0 & 1 & 0 \\\\\n",
    "    0 & 1 & 0 & 0\n",
    "    \\end{pmatrix}\n",
    "    \\begin{pmatrix}\n",
    "    1\\\\\n",
    "    0\\\\\n",
    "    0\\\\\n",
    "    0\n",
    "    \\end{pmatrix} = \n",
    "    \\begin{pmatrix}\n",
    "    1\\\\\n",
    "    0\\\\\n",
    "    0\\\\\n",
    "    0\n",
    "    \\end{pmatrix}$ <br>\n",
    "    Now, we can move onto finding $y$ since we know both $L$ and $Pb$.<br><br>\n",
    "    $\\begin{pmatrix}\n",
    "    1 & 0 & 0 & 0\\\\\n",
    "    -\\frac{1}{2} & 1 & 0 & 0 \\\\\n",
    "    0 & -\\frac{2}{3} & 1 & 0 \\\\\n",
    "    0 & 0 & -\\frac{3}{4} & 1\n",
    "    \\end{pmatrix}\n",
    "    \\begin{pmatrix}\n",
    "    y_1\\\\\n",
    "    y_2\\\\\n",
    "    y_3\\\\\n",
    "    y_4\n",
    "    \\end{pmatrix} = \n",
    "    \\begin{pmatrix}\n",
    "    1\\\\\n",
    "    0\\\\\n",
    "    0\\\\\n",
    "    0\n",
    "    \\end{pmatrix}$ <br><br>\n",
    "    Using forward substitution yields:<br><br>\n",
    "    $y = \n",
    "    \\begin{pmatrix}\n",
    "    1\\\\\n",
    "    1/2\\\\\n",
    "    1/3\\\\\n",
    "    1/4\n",
    "    \\end{pmatrix}\n",
    "    $ <br><br>\n",
    "    Since we know $y$ and $U$, we can finish the calculation using backward substitution. <br><br>\n",
    "    $\n",
    "    \\begin{pmatrix}\n",
    "    2 & -1 & 0 & 0\\\\\n",
    "    0 & \\frac{3}{2} & -1 & 0 \\\\\n",
    "    0 & 0 & \\frac{4}{3} & -1 \\\\\n",
    "    0 & 0 & 0 & \\frac{1}{4}\n",
    "    \\end{pmatrix} \n",
    "    \\begin{pmatrix}\n",
    "    x_1\\\\\n",
    "    x_2\\\\\n",
    "    x_3\\\\\n",
    "    x_4\n",
    "    \\end{pmatrix} = \n",
    "    \\begin{pmatrix}\n",
    "    1\\\\\n",
    "    1/2\\\\\n",
    "    1/3\\\\\n",
    "    1/4\n",
    "    \\end{pmatrix}$ <br><br>\n",
    "    Using backward substitution yields:<br><br>\n",
    "    $x = \n",
    "    \\begin{pmatrix}\n",
    "    1\\\\\n",
    "    1\\\\\n",
    "    1\\\\\n",
    "    1\n",
    "    \\end{pmatrix}\n",
    "    $ <br><br>"
   ]
  },
  {
   "cell_type": "markdown",
   "metadata": {},
   "source": [
    "# An algorithm to find most influential papers\n",
    "The first algorithm I decided to try using, uses the number of citations a paper got from others to decide how influential the paper is (basic in-degree centrality). In order to do this, I decided to use a Python dictionary since it is implemented as a hashtable which has amortized O(1) lookup time and O(n) memory complexity. The dictionary has the ids of the papers as keys and the number of times that id is citated as values. To get the top 10 papers, I simply used nlargest from heapq module since it is faster than sorting."
   ]
  },
  {
   "cell_type": "code",
   "execution_count": 23,
   "metadata": {},
   "outputs": [
    {
     "name": "stdout",
     "output_type": "stream",
     "text": [
      "1. 9711200 - 2414 times\n",
      "2. 9802150 - 1775 times\n",
      "3. 9802109 - 1641 times\n",
      "4. 9407087 - 1299 times\n",
      "5. 9610043 - 1199 times\n",
      "6. 9510017 - 1155 times\n",
      "7. 9908142 - 1144 times\n",
      "8. 9503124 - 1114 times\n",
      "9. 9906064 - 1032 times\n",
      "10. 9408099 - 1006 times\n",
      "Time elapsed: 1.650054693222046 seconds.\n"
     ]
    }
   ],
   "source": [
    "import time\n",
    "from heapq import nlargest\n",
    "\n",
    "#get the starting time\n",
    "start = time.time()\n",
    "\n",
    "#import the data\n",
    "dataset_array = np.genfromtxt(\"cit-HepTh.txt\", skip_header=4, dtype=int)\n",
    "\n",
    "#initialize the dictionary\n",
    "id_dictionary = {}\n",
    "\n",
    "for data in dataset_array:\n",
    "    #if the key exists increment its value by one\n",
    "    if id_dictionary.get(data[1]):\n",
    "        id_dictionary[data[1]] += 1\n",
    "    #else create a new key value pair(id : 1)\n",
    "    else:\n",
    "        id_dictionary[data[1]] = 1\n",
    "\n",
    "top_ten = nlargest(10, id_dictionary, key = id_dictionary.get) \n",
    "\n",
    "for i in range(10):\n",
    "    print(\"{0}. {1} - {2} times\".format(i + 1, top_ten[i], id_dictionary[top_ten[i]]))\n",
    "\n",
    "#get the ending time\n",
    "end = time.time()\n",
    "\n",
    "#print the difference to find time elapsed\n",
    "print(\"Time elapsed: {0} seconds.\".format(end - start))"
   ]
  },
  {
   "cell_type": "markdown",
   "metadata": {},
   "source": [
    "Another way to decide a paper's importance would be converting the dataset into a graph and using the centrality property of the nodes. This method decides the importance of a paper by looking at its neighbours' importance. The nodes with more important neighbours gain higher scores compared to others. Following code uses eigenvector centrality to achieve this."
   ]
  },
  {
   "cell_type": "code",
   "execution_count": 24,
   "metadata": {},
   "outputs": [
    {
     "name": "stdout",
     "output_type": "stream",
     "text": [
      "1. 9410167 - 0.25802129275036234 eigenvector centrality score, cited 748 times\n",
      "2. 9503124 - 0.2537009665842248 eigenvector centrality score, cited 1114 times\n",
      "3. 9207053 - 0.22912915964505004 eigenvector centrality score, cited 102 times\n",
      "4. 9402002 - 0.2185809147534801 eigenvector centrality score, cited 282 times\n",
      "5. 9305185 - 0.20821343366834785 eigenvector centrality score, cited 171 times\n",
      "6. 9205027 - 0.18637890152325381 eigenvector centrality score, cited 191 times\n",
      "7. 9407087 - 0.18610320992515425 eigenvector centrality score, cited 1299 times\n",
      "8. 9211056 - 0.17687337618265953 eigenvector centrality score, cited 68 times\n",
      "9. 9207016 - 0.17248051978323245 eigenvector centrality score, cited 219 times\n",
      "10. 9304154 - 0.17051221326239968 eigenvector centrality score, cited 229 times\n",
      "Time elapsed: 3.3530795574188232 seconds.\n"
     ]
    }
   ],
   "source": [
    "import networkx as nx\n",
    "\n",
    "start = time.time()\n",
    "dataset_array = np.genfromtxt(\"cit-HepTh.txt\",skip_header=4,dtype=int)\n",
    "\n",
    "G = nx.DiGraph()\n",
    "\n",
    "for data in dataset_array:\n",
    "    G.add_edge(data[0], data[1])\n",
    "\n",
    "centrality = nx.eigenvector_centrality_numpy(G)\n",
    "\n",
    "top_ten = nlargest(10, centrality, key = centrality.get) \n",
    "\n",
    "for i in range(10):\n",
    "    print(\"{0}. {1} - {2} eigenvector centrality score, cited {3} times\".format(i + 1, top_ten[i], centrality[top_ten[i]], id_dictionary[top_ten[i]]))\n",
    "    \n",
    "end = time.time()\n",
    "print(\"Time elapsed: {0} seconds.\".format(end - start))"
   ]
  },
  {
   "cell_type": "markdown",
   "metadata": {},
   "source": [
    "Both algorithms have results in common. To achieve a better result, results from the both algorithms can be taken and a unified result can be composed which takes both popularity and importance in account. Using the pagerank algorithm yields that."
   ]
  },
  {
   "cell_type": "code",
   "execution_count": 25,
   "metadata": {},
   "outputs": [
    {
     "name": "stdout",
     "output_type": "stream",
     "text": [
      "1. 9407087 - 0.006238910935211816 pagerank score, cited 1299 times\n",
      "2. 9503124 - 0.004632588508880583 pagerank score, cited 1114 times\n",
      "3. 9510017 - 0.004385169336798882 pagerank score, cited 1155 times\n",
      "4. 9402044 - 0.003935347334410061 pagerank score, cited 257 times\n",
      "5. 9711200 - 0.003409682539237107 pagerank score, cited 2414 times\n",
      "6. 9410167 - 0.003407370515336672 pagerank score, cited 748 times\n",
      "7. 9408099 - 0.003189869048538741 pagerank score, cited 1006 times\n",
      "8. 9207016 - 0.0031138613638518916 pagerank score, cited 219 times\n",
      "9. 9402002 - 0.002962458707729362 pagerank score, cited 282 times\n",
      "10. 9610043 - 0.002752903011864363 pagerank score, cited 1199 times\n",
      "Time elapsed: 8.67304515838623 seconds.\n"
     ]
    }
   ],
   "source": [
    "start = time.time()\n",
    "dataset_array = np.genfromtxt(\"cit-HepTh.txt\",skip_header=4,dtype=int)\n",
    "\n",
    "G = nx.DiGraph()\n",
    "\n",
    "for data in dataset_array:\n",
    "    G.add_edge(data[0], data[1])\n",
    "\n",
    "centrality = nx.pagerank(G)\n",
    "\n",
    "top_ten = nlargest(10, centrality, key = centrality.get) \n",
    "\n",
    "for i in range(10):\n",
    "    print(\"{0}. {1} - {2} pagerank score, cited {3} times\".format(i + 1, top_ten[i], centrality[top_ten[i]], id_dictionary[top_ten[i]]))\n",
    "    \n",
    "end = time.time()\n",
    "print(\"Time elapsed: {0} seconds.\".format(end - start))"
   ]
  }
 ],
 "metadata": {
  "kernelspec": {
   "display_name": "Python 3",
   "language": "python",
   "name": "python3"
  },
  "language_info": {
   "codemirror_mode": {
    "name": "ipython",
    "version": 3
   },
   "file_extension": ".py",
   "mimetype": "text/x-python",
   "name": "python",
   "nbconvert_exporter": "python",
   "pygments_lexer": "ipython3",
   "version": "3.7.6"
  }
 },
 "nbformat": 4,
 "nbformat_minor": 4
}
